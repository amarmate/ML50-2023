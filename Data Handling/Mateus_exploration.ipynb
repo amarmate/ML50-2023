{
 "cells": [
  {
   "cell_type": "markdown",
   "metadata": {},
   "source": [
    "## Data Exploration (ML50-2023) - Mateus"
   ]
  },
  {
   "cell_type": "markdown",
   "metadata": {},
   "source": [
    "### __Importing libraries__"
   ]
  },
  {
   "cell_type": "code",
   "execution_count": 1,
   "metadata": {},
   "outputs": [],
   "source": [
    "import pandas as pd\n",
    "import numpy as np\n",
    "import matplotlib.pyplot as plt\n",
    "import seaborn as sns\n",
    "import os"
   ]
  },
  {
   "cell_type": "code",
   "execution_count": 2,
   "metadata": {},
   "outputs": [],
   "source": [
    "# Data path : ../Data/test.csv\n",
    "test_path = os.path.join('..', 'Data', 'test.csv')\n",
    "train_path = os.path.join('..', 'Data', 'train.csv')\n",
    "icd_9_path = os.path.join('..', 'Data', 'icd9_codes.txt')\n",
    "\n",
    "# Read data\n",
    "test = pd.read_csv(test_path, index_col='encounter_id')\n",
    "train = pd.read_csv(train_path, index_col='encounter_id')\n",
    "icd_9 = pd.read_csv(icd_9_path, sep=',', encoding='ISO-8859-1', index_col=0)\n",
    "icd_9['3 digit code'] = icd_9.index.str[:3]\n",
    "icd_9.set_index('3 digit code', inplace=True)\n",
    "# Delete duplicates in the index\n",
    "icd_9 = icd_9[~icd_9.index.duplicated(keep='first')]\n",
    "\n",
    "test_ids = test.index\n",
    "train_ids = train.index"
   ]
  },
  {
   "cell_type": "code",
   "execution_count": 3,
   "metadata": {},
   "outputs": [],
   "source": [
    "# Data will have to be treated as a whole, so we will concatenate the test and training data\n",
    "data = pd.concat([train, test], axis=0)\n",
    "\n",
    "# Adding a 0 to the codes that have only two digits\n",
    "data['primary_diagnosis'] = data['primary_diagnosis'].apply(lambda x: '0' + x if len(x) == 2 else x)\n",
    "data['primary_diagnosis'] = data['primary_diagnosis'].apply(lambda x: '00' + x if len(x) == 1 and x!='?' else x)\n",
    "data['primary_diagnosis'] = data['primary_diagnosis'].apply(lambda x: x if len(x) == 3 else x[:3])\n",
    "data['secondary_diagnosis'] = data['secondary_diagnosis'].apply(lambda x: '0' + x if len(x) == 2 else x)\n",
    "data['secondary_diagnosis'] = data['secondary_diagnosis'].apply(lambda x: '00' + x if len(x) == 1 and x != '?' else x)\n",
    "data['secondary_diagnosis'] = data['secondary_diagnosis'].apply(lambda x: x if len(x) == 3 else x[:3])\n",
    "data['additional_diagnosis'] = data['additional_diagnosis'].apply(lambda x: '0' + x if len(x) == 2 else x)\n",
    "data['additional_diagnosis'] = data['additional_diagnosis'].apply(lambda x: '00' + x if len(x) == 1 and x != '?' else x)\n",
    "data['additional_diagnosis'] = data['additional_diagnosis'].apply(lambda x: x if len(x) == 3 else x[:3])\n",
    "\n",
    "\n",
    "# This will ease our work later on\n",
    "data['primary_diagnosis_description'] = data['primary_diagnosis'].map(icd_9['long_description'])\n",
    "data['secondary_diagnosis_description'] = data['secondary_diagnosis'].map(icd_9['long_description'])\n",
    "data['additional_diagnosis_description'] = data['additional_diagnosis'].map(icd_9['long_description'])\n",
    "\n",
    "# Transform the target variable into a binary variable\n",
    "data['readmitted_binary'] = data['readmitted_binary'].map({'No': 0, 'Yes': 1})\n",
    "data['prescribed_diabetes_meds'] = data['prescribed_diabetes_meds'].map({'No': 0, 'Yes': 1})"
   ]
  },
  {
   "cell_type": "code",
   "execution_count": 4,
   "metadata": {},
   "outputs": [
    {
     "data": {
      "text/html": [
       "<div>\n",
       "<style scoped>\n",
       "    .dataframe tbody tr th:only-of-type {\n",
       "        vertical-align: middle;\n",
       "    }\n",
       "\n",
       "    .dataframe tbody tr th {\n",
       "        vertical-align: top;\n",
       "    }\n",
       "\n",
       "    .dataframe thead th {\n",
       "        text-align: right;\n",
       "    }\n",
       "</style>\n",
       "<table border=\"1\" class=\"dataframe\">\n",
       "  <thead>\n",
       "    <tr style=\"text-align: right;\">\n",
       "      <th>encounter_id</th>\n",
       "      <th>533253</th>\n",
       "      <th>426224</th>\n",
       "      <th>634063</th>\n",
       "      <th>890610</th>\n",
       "      <th>654194</th>\n",
       "      <th>269878</th>\n",
       "      <th>182051</th>\n",
       "      <th>964239</th>\n",
       "    </tr>\n",
       "  </thead>\n",
       "  <tbody>\n",
       "    <tr>\n",
       "      <th>country</th>\n",
       "      <td>USA</td>\n",
       "      <td>USA</td>\n",
       "      <td>USA</td>\n",
       "      <td>USA</td>\n",
       "      <td>USA</td>\n",
       "      <td>USA</td>\n",
       "      <td>USA</td>\n",
       "      <td>USA</td>\n",
       "    </tr>\n",
       "    <tr>\n",
       "      <th>patient_id</th>\n",
       "      <td>70110</td>\n",
       "      <td>29775006</td>\n",
       "      <td>80729253</td>\n",
       "      <td>2919042</td>\n",
       "      <td>84871971</td>\n",
       "      <td>279288</td>\n",
       "      <td>1566405</td>\n",
       "      <td>60052095</td>\n",
       "    </tr>\n",
       "    <tr>\n",
       "      <th>race</th>\n",
       "      <td>Caucasian</td>\n",
       "      <td>AfricanAmerican</td>\n",
       "      <td>Caucasian</td>\n",
       "      <td>AfricanAmerican</td>\n",
       "      <td>Caucasian</td>\n",
       "      <td>Caucasian</td>\n",
       "      <td>Caucasian</td>\n",
       "      <td>Other</td>\n",
       "    </tr>\n",
       "    <tr>\n",
       "      <th>gender</th>\n",
       "      <td>Female</td>\n",
       "      <td>Male</td>\n",
       "      <td>Female</td>\n",
       "      <td>Male</td>\n",
       "      <td>Female</td>\n",
       "      <td>Female</td>\n",
       "      <td>Female</td>\n",
       "      <td>Male</td>\n",
       "    </tr>\n",
       "    <tr>\n",
       "      <th>age</th>\n",
       "      <td>[70-80)</td>\n",
       "      <td>[50-60)</td>\n",
       "      <td>[60-70)</td>\n",
       "      <td>[60-70)</td>\n",
       "      <td>[70-80)</td>\n",
       "      <td>[50-60)</td>\n",
       "      <td>[50-60)</td>\n",
       "      <td>[70-80)</td>\n",
       "    </tr>\n",
       "    <tr>\n",
       "      <th>weight</th>\n",
       "      <td>?</td>\n",
       "      <td>?</td>\n",
       "      <td>?</td>\n",
       "      <td>?</td>\n",
       "      <td>?</td>\n",
       "      <td>?</td>\n",
       "      <td>?</td>\n",
       "      <td>?</td>\n",
       "    </tr>\n",
       "    <tr>\n",
       "      <th>payer_code</th>\n",
       "      <td>?</td>\n",
       "      <td>?</td>\n",
       "      <td>?</td>\n",
       "      <td>MC</td>\n",
       "      <td>HM</td>\n",
       "      <td>?</td>\n",
       "      <td>UN</td>\n",
       "      <td>MC</td>\n",
       "    </tr>\n",
       "    <tr>\n",
       "      <th>outpatient_visits_in_previous_year</th>\n",
       "      <td>0</td>\n",
       "      <td>0</td>\n",
       "      <td>0</td>\n",
       "      <td>0</td>\n",
       "      <td>1</td>\n",
       "      <td>0</td>\n",
       "      <td>0</td>\n",
       "      <td>0</td>\n",
       "    </tr>\n",
       "    <tr>\n",
       "      <th>emergency_visits_in_previous_year</th>\n",
       "      <td>0</td>\n",
       "      <td>0</td>\n",
       "      <td>0</td>\n",
       "      <td>0</td>\n",
       "      <td>0</td>\n",
       "      <td>0</td>\n",
       "      <td>0</td>\n",
       "      <td>0</td>\n",
       "    </tr>\n",
       "    <tr>\n",
       "      <th>inpatient_visits_in_previous_year</th>\n",
       "      <td>2</td>\n",
       "      <td>0</td>\n",
       "      <td>1</td>\n",
       "      <td>1</td>\n",
       "      <td>0</td>\n",
       "      <td>0</td>\n",
       "      <td>0</td>\n",
       "      <td>0</td>\n",
       "    </tr>\n",
       "    <tr>\n",
       "      <th>admission_type</th>\n",
       "      <td>Emergency</td>\n",
       "      <td>Emergency</td>\n",
       "      <td>NaN</td>\n",
       "      <td>Emergency</td>\n",
       "      <td>Elective</td>\n",
       "      <td>Emergency</td>\n",
       "      <td>Emergency</td>\n",
       "      <td>Elective</td>\n",
       "    </tr>\n",
       "    <tr>\n",
       "      <th>medical_specialty</th>\n",
       "      <td>Family/GeneralPractice</td>\n",
       "      <td>?</td>\n",
       "      <td>Family/GeneralPractice</td>\n",
       "      <td>InternalMedicine</td>\n",
       "      <td>?</td>\n",
       "      <td>Surgery-General</td>\n",
       "      <td>?</td>\n",
       "      <td>Radiologist</td>\n",
       "    </tr>\n",
       "    <tr>\n",
       "      <th>average_pulse_bpm</th>\n",
       "      <td>127</td>\n",
       "      <td>128</td>\n",
       "      <td>94</td>\n",
       "      <td>81</td>\n",
       "      <td>126</td>\n",
       "      <td>93</td>\n",
       "      <td>73</td>\n",
       "      <td>66</td>\n",
       "    </tr>\n",
       "    <tr>\n",
       "      <th>discharge_disposition</th>\n",
       "      <td>Discharged to home</td>\n",
       "      <td>Discharged/transferred to a federal health car...</td>\n",
       "      <td>Discharged to home</td>\n",
       "      <td>Discharged to home</td>\n",
       "      <td>Discharged/transferred to home with home healt...</td>\n",
       "      <td>Discharged to home</td>\n",
       "      <td>Discharged to home</td>\n",
       "      <td>Discharged/transferred to home with home healt...</td>\n",
       "    </tr>\n",
       "    <tr>\n",
       "      <th>admission_source</th>\n",
       "      <td>Emergency Room</td>\n",
       "      <td>Clinic Referral</td>\n",
       "      <td>NaN</td>\n",
       "      <td>Transfer from another health care facility</td>\n",
       "      <td>Physician Referral</td>\n",
       "      <td>Emergency Room</td>\n",
       "      <td>Emergency Room</td>\n",
       "      <td>Physician Referral</td>\n",
       "    </tr>\n",
       "    <tr>\n",
       "      <th>length_of_stay_in_hospital</th>\n",
       "      <td>2</td>\n",
       "      <td>14</td>\n",
       "      <td>6</td>\n",
       "      <td>6</td>\n",
       "      <td>6</td>\n",
       "      <td>3</td>\n",
       "      <td>1</td>\n",
       "      <td>6</td>\n",
       "    </tr>\n",
       "    <tr>\n",
       "      <th>number_lab_tests</th>\n",
       "      <td>48</td>\n",
       "      <td>71</td>\n",
       "      <td>60</td>\n",
       "      <td>48</td>\n",
       "      <td>47</td>\n",
       "      <td>58</td>\n",
       "      <td>59</td>\n",
       "      <td>56</td>\n",
       "    </tr>\n",
       "    <tr>\n",
       "      <th>non_lab_procedures</th>\n",
       "      <td>0</td>\n",
       "      <td>0</td>\n",
       "      <td>1</td>\n",
       "      <td>2</td>\n",
       "      <td>1</td>\n",
       "      <td>2</td>\n",
       "      <td>3</td>\n",
       "      <td>6</td>\n",
       "    </tr>\n",
       "    <tr>\n",
       "      <th>number_of_medications</th>\n",
       "      <td>20</td>\n",
       "      <td>25</td>\n",
       "      <td>22</td>\n",
       "      <td>9</td>\n",
       "      <td>15</td>\n",
       "      <td>10</td>\n",
       "      <td>13</td>\n",
       "      <td>39</td>\n",
       "    </tr>\n",
       "    <tr>\n",
       "      <th>primary_diagnosis</th>\n",
       "      <td>515</td>\n",
       "      <td>038</td>\n",
       "      <td>534</td>\n",
       "      <td>569</td>\n",
       "      <td>715</td>\n",
       "      <td>574</td>\n",
       "      <td>786</td>\n",
       "      <td>414</td>\n",
       "    </tr>\n",
       "    <tr>\n",
       "      <th>secondary_diagnosis</th>\n",
       "      <td>276</td>\n",
       "      <td>785</td>\n",
       "      <td>135</td>\n",
       "      <td>562</td>\n",
       "      <td>599</td>\n",
       "      <td>250</td>\n",
       "      <td>250</td>\n",
       "      <td>287</td>\n",
       "    </tr>\n",
       "    <tr>\n",
       "      <th>additional_diagnosis</th>\n",
       "      <td>466</td>\n",
       "      <td>162</td>\n",
       "      <td>250</td>\n",
       "      <td>455</td>\n",
       "      <td>428</td>\n",
       "      <td>244</td>\n",
       "      <td>493</td>\n",
       "      <td>276</td>\n",
       "    </tr>\n",
       "    <tr>\n",
       "      <th>number_diagnoses</th>\n",
       "      <td>8</td>\n",
       "      <td>9</td>\n",
       "      <td>6</td>\n",
       "      <td>5</td>\n",
       "      <td>9</td>\n",
       "      <td>3</td>\n",
       "      <td>9</td>\n",
       "      <td>9</td>\n",
       "    </tr>\n",
       "    <tr>\n",
       "      <th>glucose_test_result</th>\n",
       "      <td>NaN</td>\n",
       "      <td>NaN</td>\n",
       "      <td>NaN</td>\n",
       "      <td>NaN</td>\n",
       "      <td>NaN</td>\n",
       "      <td>NaN</td>\n",
       "      <td>NaN</td>\n",
       "      <td>NaN</td>\n",
       "    </tr>\n",
       "    <tr>\n",
       "      <th>a1c_test_result</th>\n",
       "      <td>NaN</td>\n",
       "      <td>NaN</td>\n",
       "      <td>NaN</td>\n",
       "      <td>NaN</td>\n",
       "      <td>NaN</td>\n",
       "      <td>Norm</td>\n",
       "      <td>&gt;8</td>\n",
       "      <td>NaN</td>\n",
       "    </tr>\n",
       "    <tr>\n",
       "      <th>change_in_meds_during_hospitalization</th>\n",
       "      <td>No</td>\n",
       "      <td>No</td>\n",
       "      <td>Ch</td>\n",
       "      <td>No</td>\n",
       "      <td>No</td>\n",
       "      <td>No</td>\n",
       "      <td>Ch</td>\n",
       "      <td>Ch</td>\n",
       "    </tr>\n",
       "    <tr>\n",
       "      <th>prescribed_diabetes_meds</th>\n",
       "      <td>0</td>\n",
       "      <td>1</td>\n",
       "      <td>1</td>\n",
       "      <td>0</td>\n",
       "      <td>0</td>\n",
       "      <td>0</td>\n",
       "      <td>1</td>\n",
       "      <td>1</td>\n",
       "    </tr>\n",
       "    <tr>\n",
       "      <th>medication</th>\n",
       "      <td>[]</td>\n",
       "      <td>['insulin']</td>\n",
       "      <td>['glimepiride', 'insulin']</td>\n",
       "      <td>[]</td>\n",
       "      <td>[]</td>\n",
       "      <td>[]</td>\n",
       "      <td>['metformin', 'glimepiride']</td>\n",
       "      <td>['nateglinide', 'glipizide', 'insulin']</td>\n",
       "    </tr>\n",
       "    <tr>\n",
       "      <th>readmitted_binary</th>\n",
       "      <td>0.0</td>\n",
       "      <td>0.0</td>\n",
       "      <td>0.0</td>\n",
       "      <td>0.0</td>\n",
       "      <td>0.0</td>\n",
       "      <td>0.0</td>\n",
       "      <td>0.0</td>\n",
       "      <td>0.0</td>\n",
       "    </tr>\n",
       "    <tr>\n",
       "      <th>readmitted_multiclass</th>\n",
       "      <td>&gt;30 days</td>\n",
       "      <td>No</td>\n",
       "      <td>No</td>\n",
       "      <td>No</td>\n",
       "      <td>&gt;30 days</td>\n",
       "      <td>&gt;30 days</td>\n",
       "      <td>No</td>\n",
       "      <td>No</td>\n",
       "    </tr>\n",
       "    <tr>\n",
       "      <th>primary_diagnosis_description</th>\n",
       "      <td>Postinflammatory pulmonary fibrosis</td>\n",
       "      <td>Streptococcal septicemia</td>\n",
       "      <td>Acute gastrojejunal ulcer with hemorrhage - wi...</td>\n",
       "      <td>Anal and rectal polyp</td>\n",
       "      <td>Osteoarthrosis - generalized - site unspecified</td>\n",
       "      <td>Calculus of gallbladder with acute cholecystit...</td>\n",
       "      <td>Respiratory abnormality - unspecified</td>\n",
       "      <td>Coronary atherosclerosis of unspecified type o...</td>\n",
       "    </tr>\n",
       "    <tr>\n",
       "      <th>secondary_diagnosis_description</th>\n",
       "      <td>Hyperosmolality and/or hypernatremia</td>\n",
       "      <td>Tachycardia - unspecified</td>\n",
       "      <td>Sarcoidosis</td>\n",
       "      <td>Diverticulosis of small intestine (without men...</td>\n",
       "      <td>Urinary tract infection - site not specified</td>\n",
       "      <td>Diabetes mellitus without mention of complicat...</td>\n",
       "      <td>Diabetes mellitus without mention of complicat...</td>\n",
       "      <td>Allergic purpura</td>\n",
       "    </tr>\n",
       "    <tr>\n",
       "      <th>additional_diagnosis_description</th>\n",
       "      <td>Acute bronchitis</td>\n",
       "      <td>Malignant neoplasm of trachea</td>\n",
       "      <td>Diabetes mellitus without mention of complicat...</td>\n",
       "      <td>Internal hemorrhoids without mention of compli...</td>\n",
       "      <td>Congestive heart failure - unspecified</td>\n",
       "      <td>Postsurgical hypothyroidism</td>\n",
       "      <td>Extrinsic asthma - unspecified</td>\n",
       "      <td>Hyperosmolality and/or hypernatremia</td>\n",
       "    </tr>\n",
       "  </tbody>\n",
       "</table>\n",
       "</div>"
      ],
      "text/plain": [
       "encounter_id                                                         533253   \n",
       "country                                                                 USA  \\\n",
       "patient_id                                                            70110   \n",
       "race                                                              Caucasian   \n",
       "gender                                                               Female   \n",
       "age                                                                 [70-80)   \n",
       "weight                                                                    ?   \n",
       "payer_code                                                                ?   \n",
       "outpatient_visits_in_previous_year                                        0   \n",
       "emergency_visits_in_previous_year                                         0   \n",
       "inpatient_visits_in_previous_year                                         2   \n",
       "admission_type                                                    Emergency   \n",
       "medical_specialty                                    Family/GeneralPractice   \n",
       "average_pulse_bpm                                                       127   \n",
       "discharge_disposition                                    Discharged to home   \n",
       "admission_source                                             Emergency Room   \n",
       "length_of_stay_in_hospital                                                2   \n",
       "number_lab_tests                                                         48   \n",
       "non_lab_procedures                                                        0   \n",
       "number_of_medications                                                    20   \n",
       "primary_diagnosis                                                       515   \n",
       "secondary_diagnosis                                                     276   \n",
       "additional_diagnosis                                                    466   \n",
       "number_diagnoses                                                          8   \n",
       "glucose_test_result                                                     NaN   \n",
       "a1c_test_result                                                         NaN   \n",
       "change_in_meds_during_hospitalization                                    No   \n",
       "prescribed_diabetes_meds                                                  0   \n",
       "medication                                                               []   \n",
       "readmitted_binary                                                       0.0   \n",
       "readmitted_multiclass                                              >30 days   \n",
       "primary_diagnosis_description           Postinflammatory pulmonary fibrosis   \n",
       "secondary_diagnosis_description        Hyperosmolality and/or hypernatremia   \n",
       "additional_diagnosis_description                           Acute bronchitis   \n",
       "\n",
       "encounter_id                                                                      426224   \n",
       "country                                                                              USA  \\\n",
       "patient_id                                                                      29775006   \n",
       "race                                                                     AfricanAmerican   \n",
       "gender                                                                              Male   \n",
       "age                                                                              [50-60)   \n",
       "weight                                                                                 ?   \n",
       "payer_code                                                                             ?   \n",
       "outpatient_visits_in_previous_year                                                     0   \n",
       "emergency_visits_in_previous_year                                                      0   \n",
       "inpatient_visits_in_previous_year                                                      0   \n",
       "admission_type                                                                 Emergency   \n",
       "medical_specialty                                                                      ?   \n",
       "average_pulse_bpm                                                                    128   \n",
       "discharge_disposition                  Discharged/transferred to a federal health car...   \n",
       "admission_source                                                         Clinic Referral   \n",
       "length_of_stay_in_hospital                                                            14   \n",
       "number_lab_tests                                                                      71   \n",
       "non_lab_procedures                                                                     0   \n",
       "number_of_medications                                                                 25   \n",
       "primary_diagnosis                                                                    038   \n",
       "secondary_diagnosis                                                                  785   \n",
       "additional_diagnosis                                                                 162   \n",
       "number_diagnoses                                                                       9   \n",
       "glucose_test_result                                                                  NaN   \n",
       "a1c_test_result                                                                      NaN   \n",
       "change_in_meds_during_hospitalization                                                 No   \n",
       "prescribed_diabetes_meds                                                               1   \n",
       "medication                                                                   ['insulin']   \n",
       "readmitted_binary                                                                    0.0   \n",
       "readmitted_multiclass                                                                 No   \n",
       "primary_diagnosis_description                                   Streptococcal septicemia   \n",
       "secondary_diagnosis_description                                Tachycardia - unspecified   \n",
       "additional_diagnosis_description                           Malignant neoplasm of trachea   \n",
       "\n",
       "encounter_id                                                                      634063   \n",
       "country                                                                              USA  \\\n",
       "patient_id                                                                      80729253   \n",
       "race                                                                           Caucasian   \n",
       "gender                                                                            Female   \n",
       "age                                                                              [60-70)   \n",
       "weight                                                                                 ?   \n",
       "payer_code                                                                             ?   \n",
       "outpatient_visits_in_previous_year                                                     0   \n",
       "emergency_visits_in_previous_year                                                      0   \n",
       "inpatient_visits_in_previous_year                                                      1   \n",
       "admission_type                                                                       NaN   \n",
       "medical_specialty                                                 Family/GeneralPractice   \n",
       "average_pulse_bpm                                                                     94   \n",
       "discharge_disposition                                                 Discharged to home   \n",
       "admission_source                                                                     NaN   \n",
       "length_of_stay_in_hospital                                                             6   \n",
       "number_lab_tests                                                                      60   \n",
       "non_lab_procedures                                                                     1   \n",
       "number_of_medications                                                                 22   \n",
       "primary_diagnosis                                                                    534   \n",
       "secondary_diagnosis                                                                  135   \n",
       "additional_diagnosis                                                                 250   \n",
       "number_diagnoses                                                                       6   \n",
       "glucose_test_result                                                                  NaN   \n",
       "a1c_test_result                                                                      NaN   \n",
       "change_in_meds_during_hospitalization                                                 Ch   \n",
       "prescribed_diabetes_meds                                                               1   \n",
       "medication                                                    ['glimepiride', 'insulin']   \n",
       "readmitted_binary                                                                    0.0   \n",
       "readmitted_multiclass                                                                 No   \n",
       "primary_diagnosis_description          Acute gastrojejunal ulcer with hemorrhage - wi...   \n",
       "secondary_diagnosis_description                                              Sarcoidosis   \n",
       "additional_diagnosis_description       Diabetes mellitus without mention of complicat...   \n",
       "\n",
       "encounter_id                                                                      890610   \n",
       "country                                                                              USA  \\\n",
       "patient_id                                                                       2919042   \n",
       "race                                                                     AfricanAmerican   \n",
       "gender                                                                              Male   \n",
       "age                                                                              [60-70)   \n",
       "weight                                                                                 ?   \n",
       "payer_code                                                                            MC   \n",
       "outpatient_visits_in_previous_year                                                     0   \n",
       "emergency_visits_in_previous_year                                                      0   \n",
       "inpatient_visits_in_previous_year                                                      1   \n",
       "admission_type                                                                 Emergency   \n",
       "medical_specialty                                                       InternalMedicine   \n",
       "average_pulse_bpm                                                                     81   \n",
       "discharge_disposition                                                 Discharged to home   \n",
       "admission_source                              Transfer from another health care facility   \n",
       "length_of_stay_in_hospital                                                             6   \n",
       "number_lab_tests                                                                      48   \n",
       "non_lab_procedures                                                                     2   \n",
       "number_of_medications                                                                  9   \n",
       "primary_diagnosis                                                                    569   \n",
       "secondary_diagnosis                                                                  562   \n",
       "additional_diagnosis                                                                 455   \n",
       "number_diagnoses                                                                       5   \n",
       "glucose_test_result                                                                  NaN   \n",
       "a1c_test_result                                                                      NaN   \n",
       "change_in_meds_during_hospitalization                                                 No   \n",
       "prescribed_diabetes_meds                                                               0   \n",
       "medication                                                                            []   \n",
       "readmitted_binary                                                                    0.0   \n",
       "readmitted_multiclass                                                                 No   \n",
       "primary_diagnosis_description                                      Anal and rectal polyp   \n",
       "secondary_diagnosis_description        Diverticulosis of small intestine (without men...   \n",
       "additional_diagnosis_description       Internal hemorrhoids without mention of compli...   \n",
       "\n",
       "encounter_id                                                                      654194   \n",
       "country                                                                              USA  \\\n",
       "patient_id                                                                      84871971   \n",
       "race                                                                           Caucasian   \n",
       "gender                                                                            Female   \n",
       "age                                                                              [70-80)   \n",
       "weight                                                                                 ?   \n",
       "payer_code                                                                            HM   \n",
       "outpatient_visits_in_previous_year                                                     1   \n",
       "emergency_visits_in_previous_year                                                      0   \n",
       "inpatient_visits_in_previous_year                                                      0   \n",
       "admission_type                                                                  Elective   \n",
       "medical_specialty                                                                      ?   \n",
       "average_pulse_bpm                                                                    126   \n",
       "discharge_disposition                  Discharged/transferred to home with home healt...   \n",
       "admission_source                                                      Physician Referral   \n",
       "length_of_stay_in_hospital                                                             6   \n",
       "number_lab_tests                                                                      47   \n",
       "non_lab_procedures                                                                     1   \n",
       "number_of_medications                                                                 15   \n",
       "primary_diagnosis                                                                    715   \n",
       "secondary_diagnosis                                                                  599   \n",
       "additional_diagnosis                                                                 428   \n",
       "number_diagnoses                                                                       9   \n",
       "glucose_test_result                                                                  NaN   \n",
       "a1c_test_result                                                                      NaN   \n",
       "change_in_meds_during_hospitalization                                                 No   \n",
       "prescribed_diabetes_meds                                                               0   \n",
       "medication                                                                            []   \n",
       "readmitted_binary                                                                    0.0   \n",
       "readmitted_multiclass                                                           >30 days   \n",
       "primary_diagnosis_description            Osteoarthrosis - generalized - site unspecified   \n",
       "secondary_diagnosis_description             Urinary tract infection - site not specified   \n",
       "additional_diagnosis_description                  Congestive heart failure - unspecified   \n",
       "\n",
       "encounter_id                                                                      269878   \n",
       "country                                                                              USA  \\\n",
       "patient_id                                                                        279288   \n",
       "race                                                                           Caucasian   \n",
       "gender                                                                            Female   \n",
       "age                                                                              [50-60)   \n",
       "weight                                                                                 ?   \n",
       "payer_code                                                                             ?   \n",
       "outpatient_visits_in_previous_year                                                     0   \n",
       "emergency_visits_in_previous_year                                                      0   \n",
       "inpatient_visits_in_previous_year                                                      0   \n",
       "admission_type                                                                 Emergency   \n",
       "medical_specialty                                                        Surgery-General   \n",
       "average_pulse_bpm                                                                     93   \n",
       "discharge_disposition                                                 Discharged to home   \n",
       "admission_source                                                          Emergency Room   \n",
       "length_of_stay_in_hospital                                                             3   \n",
       "number_lab_tests                                                                      58   \n",
       "non_lab_procedures                                                                     2   \n",
       "number_of_medications                                                                 10   \n",
       "primary_diagnosis                                                                    574   \n",
       "secondary_diagnosis                                                                  250   \n",
       "additional_diagnosis                                                                 244   \n",
       "number_diagnoses                                                                       3   \n",
       "glucose_test_result                                                                  NaN   \n",
       "a1c_test_result                                                                     Norm   \n",
       "change_in_meds_during_hospitalization                                                 No   \n",
       "prescribed_diabetes_meds                                                               0   \n",
       "medication                                                                            []   \n",
       "readmitted_binary                                                                    0.0   \n",
       "readmitted_multiclass                                                           >30 days   \n",
       "primary_diagnosis_description          Calculus of gallbladder with acute cholecystit...   \n",
       "secondary_diagnosis_description        Diabetes mellitus without mention of complicat...   \n",
       "additional_diagnosis_description                             Postsurgical hypothyroidism   \n",
       "\n",
       "encounter_id                                                                      182051   \n",
       "country                                                                              USA  \\\n",
       "patient_id                                                                       1566405   \n",
       "race                                                                           Caucasian   \n",
       "gender                                                                            Female   \n",
       "age                                                                              [50-60)   \n",
       "weight                                                                                 ?   \n",
       "payer_code                                                                            UN   \n",
       "outpatient_visits_in_previous_year                                                     0   \n",
       "emergency_visits_in_previous_year                                                      0   \n",
       "inpatient_visits_in_previous_year                                                      0   \n",
       "admission_type                                                                 Emergency   \n",
       "medical_specialty                                                                      ?   \n",
       "average_pulse_bpm                                                                     73   \n",
       "discharge_disposition                                                 Discharged to home   \n",
       "admission_source                                                          Emergency Room   \n",
       "length_of_stay_in_hospital                                                             1   \n",
       "number_lab_tests                                                                      59   \n",
       "non_lab_procedures                                                                     3   \n",
       "number_of_medications                                                                 13   \n",
       "primary_diagnosis                                                                    786   \n",
       "secondary_diagnosis                                                                  250   \n",
       "additional_diagnosis                                                                 493   \n",
       "number_diagnoses                                                                       9   \n",
       "glucose_test_result                                                                  NaN   \n",
       "a1c_test_result                                                                       >8   \n",
       "change_in_meds_during_hospitalization                                                 Ch   \n",
       "prescribed_diabetes_meds                                                               1   \n",
       "medication                                                  ['metformin', 'glimepiride']   \n",
       "readmitted_binary                                                                    0.0   \n",
       "readmitted_multiclass                                                                 No   \n",
       "primary_diagnosis_description                      Respiratory abnormality - unspecified   \n",
       "secondary_diagnosis_description        Diabetes mellitus without mention of complicat...   \n",
       "additional_diagnosis_description                          Extrinsic asthma - unspecified   \n",
       "\n",
       "encounter_id                                                                      964239  \n",
       "country                                                                              USA  \n",
       "patient_id                                                                      60052095  \n",
       "race                                                                               Other  \n",
       "gender                                                                              Male  \n",
       "age                                                                              [70-80)  \n",
       "weight                                                                                 ?  \n",
       "payer_code                                                                            MC  \n",
       "outpatient_visits_in_previous_year                                                     0  \n",
       "emergency_visits_in_previous_year                                                      0  \n",
       "inpatient_visits_in_previous_year                                                      0  \n",
       "admission_type                                                                  Elective  \n",
       "medical_specialty                                                            Radiologist  \n",
       "average_pulse_bpm                                                                     66  \n",
       "discharge_disposition                  Discharged/transferred to home with home healt...  \n",
       "admission_source                                                      Physician Referral  \n",
       "length_of_stay_in_hospital                                                             6  \n",
       "number_lab_tests                                                                      56  \n",
       "non_lab_procedures                                                                     6  \n",
       "number_of_medications                                                                 39  \n",
       "primary_diagnosis                                                                    414  \n",
       "secondary_diagnosis                                                                  287  \n",
       "additional_diagnosis                                                                 276  \n",
       "number_diagnoses                                                                       9  \n",
       "glucose_test_result                                                                  NaN  \n",
       "a1c_test_result                                                                      NaN  \n",
       "change_in_meds_during_hospitalization                                                 Ch  \n",
       "prescribed_diabetes_meds                                                               1  \n",
       "medication                                       ['nateglinide', 'glipizide', 'insulin']  \n",
       "readmitted_binary                                                                    0.0  \n",
       "readmitted_multiclass                                                                 No  \n",
       "primary_diagnosis_description          Coronary atherosclerosis of unspecified type o...  \n",
       "secondary_diagnosis_description                                         Allergic purpura  \n",
       "additional_diagnosis_description                    Hyperosmolality and/or hypernatremia  "
      ]
     },
     "execution_count": 4,
     "metadata": {},
     "output_type": "execute_result"
    }
   ],
   "source": [
    "data.head(8).T"
   ]
  },
  {
   "cell_type": "markdown",
   "metadata": {},
   "source": [
    "### __I. Taking care of missing data__\n",
    "Lets check for which values are missing (in percentage of the total dataframe size)"
   ]
  },
  {
   "cell_type": "code",
   "execution_count": 5,
   "metadata": {},
   "outputs": [
    {
     "data": {
      "text/plain": [
       "weight                              96.858479\n",
       "glucose_test_result                 94.746772\n",
       "a1c_test_result                     83.277322\n",
       "medical_specialty                   49.082208\n",
       "payer_code                          39.557416\n",
       "readmitted_multiclass               30.000197\n",
       "readmitted_binary                   30.000197\n",
       "admission_source                     6.663326\n",
       "admission_type                       5.199182\n",
       "race                                 4.999705\n",
       "age                                  4.999705\n",
       "discharge_disposition                3.626948\n",
       "race                                 2.135291\n",
       "additional_diagnosis                 1.398306\n",
       "additional_diagnosis_description     1.398306\n",
       "secondary_diagnosis_description      0.351787\n",
       "secondary_diagnosis                  0.351787\n",
       "primary_diagnosis_description        0.020636\n",
       "primary_diagnosis                    0.020636\n",
       "dtype: float64"
      ]
     },
     "execution_count": 5,
     "metadata": {},
     "output_type": "execute_result"
    }
   ],
   "source": [
    "def get_missing_per(data):\n",
    "    isna = (100 * data.isna().sum().sort_values(ascending=False) / len(data))\n",
    "    isna = isna[isna != 0]\n",
    "\n",
    "    missing_counts = 100 *data.apply(lambda x: x.value_counts().get('?', 0)).sort_values(ascending=False) / len(data)\n",
    "    missing_counts = missing_counts[missing_counts != 0]\n",
    "\n",
    "    return pd.concat([isna, missing_counts], axis=0).sort_values(ascending=False)\n",
    "\n",
    "get_missing_per(data)"
   ]
  },
  {
   "cell_type": "markdown",
   "metadata": {},
   "source": [
    "#### __0. Taking care of variables with high % of missing values__\n",
    "We have many variables with a missing value count upwards of 30%, which should be removed. Lets check how they are, before removing them."
   ]
  },
  {
   "cell_type": "markdown",
   "metadata": {},
   "source": [
    "##### 1. *Weight*"
   ]
  },
  {
   "cell_type": "code",
   "execution_count": 6,
   "metadata": {},
   "outputs": [
    {
     "data": {
      "text/plain": [
       "weight\n",
       "[0-25)       0.171429\n",
       "[175-200)    0.142857\n",
       "?            0.111697\n",
       "[50-75)      0.111635\n",
       "[100-125)    0.111359\n",
       "[75-100)     0.109325\n",
       "[25-50)      0.104478\n",
       "[150-175)    0.095238\n",
       "[125-150)    0.052083\n",
       ">200         0.000000\n",
       "Name: readmitted_binary, dtype: float64"
      ]
     },
     "execution_count": 6,
     "metadata": {},
     "output_type": "execute_result"
    }
   ],
   "source": [
    "data.groupby('weight')['readmitted_binary'].mean().sort_values(ascending=False)"
   ]
  },
  {
   "cell_type": "code",
   "execution_count": 7,
   "metadata": {},
   "outputs": [
    {
     "data": {
      "text/plain": [
       "weight\n",
       ">200         1.000000\n",
       "[175-200)    0.909091\n",
       "[0-25)       0.791667\n",
       "?            0.772677\n",
       "[125-150)    0.765517\n",
       "[150-175)    0.714286\n",
       "[75-100)     0.694611\n",
       "[100-125)    0.684800\n",
       "[50-75)      0.665552\n",
       "[25-50)      0.628866\n",
       "Name: prescribed_diabetes_meds, dtype: float64"
      ]
     },
     "execution_count": 7,
     "metadata": {},
     "output_type": "execute_result"
    }
   ],
   "source": [
    "data.groupby('weight')['prescribed_diabetes_meds'].mean().sort_values(ascending=False)"
   ]
  },
  {
   "cell_type": "markdown",
   "metadata": {},
   "source": [
    "Although there seems to be some variance in the weight, with respect to the target variable, the missing values are too many to be imputed. We will remove this variable, as it might introduce bias in the model."
   ]
  },
  {
   "cell_type": "markdown",
   "metadata": {},
   "source": [
    "##### 2. *Glucose test results*"
   ]
  },
  {
   "cell_type": "code",
   "execution_count": 8,
   "metadata": {},
   "outputs": [
    {
     "name": "stdout",
     "output_type": "stream",
     "text": [
      "glucose_test_result\n",
      ">300    0.142684\n",
      ">200    0.130806\n",
      "Norm    0.121816\n",
      "Name: readmitted_binary, dtype: float64\n",
      "a1c_test_result\n",
      ">7      0.101551\n",
      "Norm    0.099914\n",
      ">8      0.096231\n",
      "Name: readmitted_binary, dtype: float64\n"
     ]
    }
   ],
   "source": [
    "print(data.groupby('glucose_test_result')['readmitted_binary'].mean().sort_values(ascending=False))\n",
    "print(data.groupby('a1c_test_result')['readmitted_binary'].mean().sort_values(ascending=False))"
   ]
  },
  {
   "cell_type": "markdown",
   "metadata": {},
   "source": [
    "These two variables are very important to diagnose diabetes, and we can assume that if the test is Nan, it was not performed (probably because the patient was already known to be diabetic). We will impute the missing values with Not Performed.\n",
    "\n",
    "We are also going to rename the columns to a1c_test_result and glucose_test_result, for better readability, and according to the following article:\n",
    "<br> '*[A] diagnosis of diabetes can be made when the A1C exceeds 6.5% or when a random glycose level in a patient with classic symptoms exceeds 200 mg/dL.*' (https://www.ncbi.nlm.nih.gov/books/NBK551501/), meaning:\n",
    "1. We can encode the a1c_test_result as 0 for 'Norma' and 1 for 'Abnormal', since the a1c values range from Norm, >7, >8. \n",
    "2. We will also use the glycose reading, with a threshold of >300mg/dL to encode it as 1, and 0 otherwise.\n",
    "3. We can then join both dataframes, creating a new column name diabetes"
   ]
  },
  {
   "cell_type": "code",
   "execution_count": 9,
   "metadata": {},
   "outputs": [
    {
     "name": "stdout",
     "output_type": "stream",
     "text": [
      "glucose_test_result\n",
      "Not tested           96420\n",
      "Normal                2597\n",
      "Probably diabetic     1485\n",
      "Diabetic              1264\n",
      "Name: count, dtype: int64 \n",
      "\n",
      "a1c_test_result\n",
      "Not tested    84748\n",
      "Diabetic      12028\n",
      "Normal         4990\n",
      "Name: count, dtype: int64\n"
     ]
    }
   ],
   "source": [
    "glucose_map = {'Norm': 'Normal', '>200': 'Probably diabetic', '>300': 'Diabetic'}\n",
    "a1c_map = {'Norm': 'Normal', '>7': 'Diabetic', '>8': 'Diabetic'}\n",
    "data['glucose_test_result'] = data['glucose_test_result'].map(glucose_map).fillna('Not tested')\n",
    "data['a1c_test_result'] = data['a1c_test_result'].map(a1c_map).fillna('Not tested')\n",
    "print(data['glucose_test_result'].value_counts(), '\\n')\n",
    "print(data['a1c_test_result'].value_counts())"
   ]
  },
  {
   "cell_type": "markdown",
   "metadata": {},
   "source": [
    "##### 3. *Medical specialty*"
   ]
  },
  {
   "cell_type": "code",
   "execution_count": 10,
   "metadata": {},
   "outputs": [
    {
     "data": {
      "text/plain": [
       "medical_specialty\n",
       "Resident                          0.500000\n",
       "AllergyandImmunology              0.500000\n",
       "Pediatrics-Hematology-Oncology    0.250000\n",
       "Hematology                        0.207547\n",
       "Hematology/Oncology               0.202614\n",
       "Name: readmitted_binary, dtype: float64"
      ]
     },
     "execution_count": 10,
     "metadata": {},
     "output_type": "execute_result"
    }
   ],
   "source": [
    "data.groupby('medical_specialty')['readmitted_binary'].mean().sort_values(ascending=False).head(5)"
   ]
  },
  {
   "cell_type": "code",
   "execution_count": 11,
   "metadata": {},
   "outputs": [
    {
     "data": {
      "text/plain": [
       "medical_specialty  primary_diagnosis_description                                                                               \n",
       "?                  Diabetes mellitus without mention of complication - type II or unspecified type - not stated as uncontrolled    4179\n",
       "                   Congestive heart failure - unspecified                                                                          3552\n",
       "                   Coronary atherosclerosis of unspecified type of vessel - native or graft                                        2821\n",
       "                   Acute myocardial infarction of anterolateral wall - episode of care unspecified                                 1998\n",
       "                   Respiratory abnormality - unspecified                                                                           1876\n",
       "Cardiology         Coronary atherosclerosis of unspecified type of vessel - native or graft                                        1839\n",
       "?                  Pneumonia - organism unspecified                                                                                1823\n",
       "InternalMedicine   Diabetes mellitus without mention of complication - type II or unspecified type - not stated as uncontrolled    1664\n",
       "?                  Paroxysmal supraventricular tachycardia                                                                         1379\n",
       "                   Simple chronic bronchitis                                                                                       1369\n",
       "Name: count, dtype: int64"
      ]
     },
     "execution_count": 11,
     "metadata": {},
     "output_type": "execute_result"
    }
   ],
   "source": [
    "data[['medical_specialty','primary_diagnosis_description']].value_counts(dropna=False).head(10)"
   ]
  },
  {
   "cell_type": "markdown",
   "metadata": {},
   "source": [
    "Medical speciality is a tricky one. We have a lot of missing values, but it can explain some of the variance in the target variable. We could try to input the missing values with the help of the primary_diagnosis variable, but then we would just have the same data twice. We will remove this variable."
   ]
  },
  {
   "cell_type": "markdown",
   "metadata": {},
   "source": [
    "##### 4. *Insurance provider code*"
   ]
  },
  {
   "cell_type": "code",
   "execution_count": 12,
   "metadata": {},
   "outputs": [
    {
     "data": {
      "text/plain": [
       "payer_code\n",
       "?     40256\n",
       "MC    32439\n",
       "HM     6274\n",
       "SP     5007\n",
       "BC     4655\n",
       "Name: count, dtype: int64"
      ]
     },
     "execution_count": 12,
     "metadata": {},
     "output_type": "execute_result"
    }
   ],
   "source": [
    "data['payer_code'].value_counts(dropna=False).head(5)"
   ]
  },
  {
   "cell_type": "code",
   "execution_count": 13,
   "metadata": {},
   "outputs": [
    {
     "data": {
      "text/plain": [
       "payer_code\n",
       "SI    0.133333\n",
       "MP    0.129630\n",
       "MD    0.125201\n",
       "MC    0.118900\n",
       "OG    0.115226\n",
       "?     0.115209\n",
       "DM    0.108466\n",
       "SP    0.100537\n",
       "HM    0.097939\n",
       "BC    0.093864\n",
       "Name: readmitted_binary, dtype: float64"
      ]
     },
     "execution_count": 13,
     "metadata": {},
     "output_type": "execute_result"
    }
   ],
   "source": [
    "data.groupby('payer_code')['readmitted_binary'].mean().sort_values(ascending=False).head(10)"
   ]
  },
  {
   "cell_type": "markdown",
   "metadata": {},
   "source": [
    "There doesn't seem to be enough explained variance in the target variable to justify the use of this variable. We will remove it."
   ]
  },
  {
   "cell_type": "markdown",
   "metadata": {},
   "source": [
    "##### 5. Removing variables mentioned above"
   ]
  },
  {
   "cell_type": "code",
   "execution_count": 14,
   "metadata": {},
   "outputs": [],
   "source": [
    "data = data.drop(['weight', 'payer_code', 'medical_specialty'], axis=1, errors='ignore')"
   ]
  },
  {
   "cell_type": "markdown",
   "metadata": {},
   "source": [
    "#### __1. Taking care of the target variable__"
   ]
  },
  {
   "cell_type": "markdown",
   "metadata": {},
   "source": [
    "Lets check if we can extract information from readmitted_binary to fill in the missing values in readmitted_multiclass (and *vice-versa*)."
   ]
  },
  {
   "cell_type": "code",
   "execution_count": 15,
   "metadata": {},
   "outputs": [
    {
     "data": {
      "text/plain": [
       "readmitted_binary                   30.000197\n",
       "readmitted_multiclass               30.000197\n",
       "admission_source                     6.663326\n",
       "admission_type                       5.199182\n",
       "race                                 4.999705\n",
       "age                                  4.999705\n",
       "discharge_disposition                3.626948\n",
       "race                                 2.135291\n",
       "additional_diagnosis_description     1.398306\n",
       "additional_diagnosis                 1.398306\n",
       "secondary_diagnosis_description      0.351787\n",
       "secondary_diagnosis                  0.351787\n",
       "primary_diagnosis_description        0.020636\n",
       "primary_diagnosis                    0.020636\n",
       "dtype: float64"
      ]
     },
     "execution_count": 15,
     "metadata": {},
     "output_type": "execute_result"
    }
   ],
   "source": [
    "get_missing_per(data)"
   ]
  },
  {
   "cell_type": "code",
   "execution_count": 16,
   "metadata": {},
   "outputs": [
    {
     "data": {
      "text/plain": [
       "True"
      ]
     },
     "execution_count": 16,
     "metadata": {},
     "output_type": "execute_result"
    }
   ],
   "source": [
    "# Our target variable is readmitted_binary and readmitted_multiclass. From multiclass we can derive binary, so lets check if they're overlapping\n",
    "data['readmitted_binary'][data['readmitted_binary'].isna()].index.equals(data['readmitted_multiclass'][data['readmitted_binary'].isna()].index)"
   ]
  },
  {
   "cell_type": "markdown",
   "metadata": {},
   "source": [
    "Since the readmitted_binary missing values coincide with the readmitted_multiclass missing values, we can't use one to fill in the other. We will remove the missing values."
   ]
  },
  {
   "cell_type": "code",
   "execution_count": 17,
   "metadata": {},
   "outputs": [],
   "source": [
    "# They are indeed, so we have to drop the missing values from both\n",
    "data = data.dropna(subset=['readmitted_binary', 'readmitted_multiclass'])"
   ]
  },
  {
   "cell_type": "markdown",
   "metadata": {},
   "source": [
    "#### __2. Handling the admission variables__\n",
    "\n",
    "- What are the admission_sources values? What about the admission types?"
   ]
  },
  {
   "cell_type": "code",
   "execution_count": 18,
   "metadata": {},
   "outputs": [
    {
     "data": {
      "text/plain": [
       "admission_source                    6.623056\n",
       "admission_type                      5.202426\n",
       "age                                 4.993262\n",
       "race                                4.989050\n",
       "discharge_disposition               3.635802\n",
       "race                                2.128137\n",
       "additional_diagnosis_description    1.415015\n",
       "additional_diagnosis                1.415015\n",
       "secondary_diagnosis_description     0.367792\n",
       "secondary_diagnosis                 0.367792\n",
       "primary_diagnosis_description       0.022461\n",
       "primary_diagnosis                   0.022461\n",
       "dtype: float64"
      ]
     },
     "execution_count": 18,
     "metadata": {},
     "output_type": "execute_result"
    }
   ],
   "source": [
    "# Lets now check our isna() values again\n",
    "get_missing_per(data)"
   ]
  },
  {
   "cell_type": "code",
   "execution_count": 64,
   "metadata": {},
   "outputs": [
    {
     "name": "stdout",
     "output_type": "stream",
     "text": [
      "                    mean  count\n",
      "admission_type                 \n",
      "1               0.114938  37742\n",
      "5               0.112101  13024\n",
      "6               0.108312   7026\n",
      "0               0.103853  13211\n",
      "3               0.088785    214\n",
      "2               0.000000      6\n",
      "4               0.000000     13\n",
      "                      mean  count\n",
      "admission_source                 \n",
      "0                 0.181818     11\n",
      "12                0.155039    129\n",
      "3                 0.140187    107\n",
      "7                 0.127731    595\n",
      "10                0.125000      8\n",
      "1                 0.116620  40319\n",
      "16                0.106825   4718\n",
      "11                0.105263    779\n",
      "4                 0.105184  20678\n",
      "8                 0.097311   1562\n",
      "14                0.095964   2230\n",
      "15                0.079545     88\n",
      "6                 0.000000      2\n",
      "5                 0.000000      1\n",
      "9                 0.000000      7\n",
      "2                 0.000000      1\n",
      "13                0.000000      1\n"
     ]
    }
   ],
   "source": [
    "print(data.groupby('admission_type', dropna=False)['readmitted_binary'].agg(['mean', 'count']).sort_values(by='mean', ascending=False))\n",
    "print(data.groupby('admission_source', dropna=False)['readmitted_binary'].agg(['mean', 'count']).sort_values(by='mean', ascending=False))"
   ]
  },
  {
   "cell_type": "markdown",
   "metadata": {},
   "source": [
    "Not Available is the same as Nan, so lets replace Not available with nan for now"
   ]
  },
  {
   "cell_type": "code",
   "execution_count": 56,
   "metadata": {},
   "outputs": [],
   "source": [
    "data['admission_type'] = data['admission_type'].apply(lambda x: None if x == 'Not Available' else x)\n",
    "data['admission_source'] = data['admission_source'].apply(lambda x: None if x == ' Not Available' else x)"
   ]
  },
  {
   "cell_type": "markdown",
   "metadata": {},
   "source": [
    "Lets use a predictive model to impute the Not Available values in admission_type. Before we do that, we need to encode the categorical variables."
   ]
  },
  {
   "cell_type": "code",
   "execution_count": 72,
   "metadata": {},
   "outputs": [
    {
     "name": "stdout",
     "output_type": "stream",
     "text": [
      "[ 0  1  2  3  4  5  6  7  8  9 10 11 12 13 14 15 16]\n",
      "[0 1 2 3 4 5 6]\n"
     ]
    }
   ],
   "source": [
    "from sklearn.preprocessing import LabelEncoder\n",
    "# Lets encode the admission_type\n",
    "encoder_type = LabelEncoder()\n",
    "encoder_source = LabelEncoder()\n",
    "data['admission_type'] = encoder_type.fit_transform(data['admission_type'])\n",
    "data['admission_source'] = encoder_source.fit_transform(data['admission_source'])\n",
    "print(encoder_source.classes_)\n",
    "print(encoder_type.classes_)"
   ]
  },
  {
   "cell_type": "markdown",
   "metadata": {},
   "source": [
    "No, we can't, so we have to find a way to fill in the missing values. Lets try to use a predictive model to fill in the missing values, like the KNNImputer."
   ]
  },
  {
   "cell_type": "code",
   "execution_count": 73,
   "metadata": {},
   "outputs": [
    {
     "data": {
      "text/plain": [
       "array([ 0,  1,  2,  3,  4,  5,  6,  7,  8,  9, 10, 11, 12, 13, 14, 15, 16])"
      ]
     },
     "execution_count": 73,
     "metadata": {},
     "output_type": "execute_result"
    }
   ],
   "source": [
    "encoder_source.classes_     CRFVTB7N8M90 BVC    1"
   ]
  }
 ],
 "metadata": {
  "kernelspec": {
   "display_name": "Python 3",
   "language": "python",
   "name": "python3"
  },
  "language_info": {
   "codemirror_mode": {
    "name": "ipython",
    "version": 3
   },
   "file_extension": ".py",
   "mimetype": "text/x-python",
   "name": "python",
   "nbconvert_exporter": "python",
   "pygments_lexer": "ipython3",
   "version": "3.11.6"
  }
 },
 "nbformat": 4,
 "nbformat_minor": 2
}
